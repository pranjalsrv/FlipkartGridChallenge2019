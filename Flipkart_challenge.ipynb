{
 "cells": [
  {
   "cell_type": "markdown",
   "metadata": {},
   "source": [
    "# Importing the Libraries"
   ]
  },
  {
   "cell_type": "code",
   "execution_count": 6,
   "metadata": {
    "collapsed": true
   },
   "outputs": [],
   "source": [
    "%matplotlib inline\n",
    "import numpy as np\n",
    "import pandas as pd\n",
    "import os\n",
    "import matplotlib.pyplot as plt\n",
    "import cv2\n",
    "import pickle"
   ]
  },
  {
   "cell_type": "markdown",
   "metadata": {},
   "source": [
    "# Preprocessing \n",
    "- Loading images into arrays\n",
    "- storing the arrays into pickle file\n",
    "\n",
    "## DO NOT RUN THE CELLS UPTILL CNN MODEL"
   ]
  },
  {
   "cell_type": "code",
   "execution_count": 9,
   "metadata": {
    "collapsed": true
   },
   "outputs": [],
   "source": [
    "folder = \"D:\\\\\"\n",
    "image_height = 480\n",
    "image_width = 680"
   ]
  },
  {
   "cell_type": "code",
   "execution_count": 16,
   "metadata": {
    "collapsed": true
   },
   "outputs": [],
   "source": [
    "train_data_file = pd.read_csv(folder+'training.csv')"
   ]
  },
  {
   "cell_type": "code",
   "execution_count": 5,
   "metadata": {
    "collapsed": true
   },
   "outputs": [],
   "source": [
    "train_data_folder = os.path.join(folder,\"images\")"
   ]
  },
  {
   "cell_type": "code",
   "execution_count": 6,
   "metadata": {
    "collapsed": true
   },
   "outputs": [],
   "source": [
    "image_arr = []\n",
    "for i in train_data_file['image_name'].values:\n",
    "    try:\n",
    "        image_path = os.path.join(train_data_folder,i)\n",
    "        image = cv2.imread(image_path,cv2.IMREAD_UNCHANGED)\n",
    "        resized_image = cv2.resize(image,(128,128))\n",
    "        image_arr.append(resized_image)\n",
    "    except:\n",
    "        pass"
   ]
  },
  {
   "cell_type": "code",
   "execution_count": 25,
   "metadata": {
    "collapsed": true
   },
   "outputs": [],
   "source": [
    "with open(\"training_images_arr.pkl\",'wb') as file:\n",
    "    pickle.dump(image_arr,file)"
   ]
  },
  {
   "cell_type": "code",
   "execution_count": 8,
   "metadata": {
    "collapsed": true
   },
   "outputs": [],
   "source": [
    "j=0\n",
    "for i in image_arr[:10]:\n",
    "    j+=1\n",
    "    plt.subplot(2,5,j)\n",
    "    cv2.imshow(\"image\",i)\n",
    "    plt.show()\n",
    "    "
   ]
  },
  {
   "cell_type": "code",
   "execution_count": 10,
   "metadata": {
    "collapsed": true
   },
   "outputs": [],
   "source": []
  },
  {
   "cell_type": "markdown",
   "metadata": {},
   "source": [
    "# CNN Model\n",
    "- run the cells below this"
   ]
  },
  {
   "cell_type": "code",
   "execution_count": 2,
   "metadata": {},
   "outputs": [
    {
     "name": "stderr",
     "output_type": "stream",
     "text": [
      "Using TensorFlow backend.\n"
     ]
    }
   ],
   "source": [
    "from keras.layers import Input,Dense,Dropout,Conv2D,Flatten,MaxPooling2D,GlobalMaxPooling2D\n",
    "from keras.models import Model\n",
    "from keras.activations import relu,sigmoid,softmax\n",
    "from keras.layers import BatchNormalization\n",
    "from keras import optimizers\n",
    "from keras.callbacks import ModelCheckpoint,EarlyStopping,TensorBoard\n",
    "from keras.regularizers import l2,l1\n",
    "from keras.utils import plot_model\n",
    "import tensorflow as tf"
   ]
  },
  {
   "cell_type": "code",
   "execution_count": 3,
   "metadata": {},
   "outputs": [
    {
     "name": "stdout",
     "output_type": "stream",
     "text": [
      "_________________________________________________________________\n",
      "Layer (type)                 Output Shape              Param #   \n",
      "=================================================================\n",
      "input_1 (InputLayer)         (None, 128, 128, 3)       0         \n",
      "_________________________________________________________________\n",
      "conv2d_1 (Conv2D)            (None, 126, 126, 64)      1792      \n",
      "_________________________________________________________________\n",
      "batch_normalization_1 (Batch (None, 126, 126, 64)      256       \n",
      "_________________________________________________________________\n",
      "conv2d_2 (Conv2D)            (None, 124, 124, 64)      36928     \n",
      "_________________________________________________________________\n",
      "batch_normalization_2 (Batch (None, 124, 124, 64)      256       \n",
      "_________________________________________________________________\n",
      "max_pooling2d_1 (MaxPooling2 (None, 62, 62, 64)        0         \n",
      "_________________________________________________________________\n",
      "conv2d_3 (Conv2D)            (None, 62, 62, 128)       8320      \n",
      "_________________________________________________________________\n",
      "batch_normalization_3 (Batch (None, 62, 62, 128)       512       \n",
      "_________________________________________________________________\n",
      "conv2d_4 (Conv2D)            (None, 62, 62, 128)       16512     \n",
      "_________________________________________________________________\n",
      "batch_normalization_4 (Batch (None, 62, 62, 128)       512       \n",
      "_________________________________________________________________\n",
      "max_pooling2d_2 (MaxPooling2 (None, 31, 31, 128)       0         \n",
      "_________________________________________________________________\n",
      "flatten_1 (Flatten)          (None, 123008)            0         \n",
      "_________________________________________________________________\n",
      "dense_1 (Dense)              (None, 1024)              125961216 \n",
      "_________________________________________________________________\n",
      "dense_2 (Dense)              (None, 1024)              1049600   \n",
      "_________________________________________________________________\n",
      "dense_3 (Dense)              (None, 4)                 4100      \n",
      "=================================================================\n",
      "Total params: 127,080,004\n",
      "Trainable params: 127,079,236\n",
      "Non-trainable params: 768\n",
      "_________________________________________________________________\n"
     ]
    }
   ],
   "source": [
    "inputs = Input(shape=(128,128,3))\n",
    "localizer = Conv2D(64,(3,3),kernel_initializer=\"glorot_normal\",bias_initializer=\"zeros\",activation=\"relu\",\\\n",
    "                   kernel_regularizer=l2(0.01),activity_regularizer=l2(0.01))(inputs)\n",
    "localizer = BatchNormalization()(localizer)\n",
    "localizer = Conv2D(64,(3,3),activation=\"relu\",\\\n",
    "                   kernel_regularizer=l2(0.01),activity_regularizer=l2(0.01))(localizer)\n",
    "localizer = BatchNormalization()(localizer)\n",
    "localizer = MaxPooling2D(pool_size=3,strides=2,padding=\"same\")(localizer)\n",
    "\n",
    "localizer = Conv2D(128,(1,1),activation=\"relu\",kernel_regularizer=l2(0.01),activity_regularizer=l2(0.01))(localizer)\n",
    "localizer = BatchNormalization()(localizer)\n",
    "localizer = Conv2D(128,(1,1),activation=\"relu\",kernel_regularizer=l2(0.01),activity_regularizer=l2(0.01))(localizer)\n",
    "localizer = BatchNormalization()(localizer)\n",
    "localizer = MaxPooling2D(3,2,padding=\"same\")(localizer)\n",
    "\n",
    "localizer = Flatten()(localizer)\n",
    "localizer = Dense(1024,activation=\"relu\",kernel_regularizer=l2(0.01),activity_regularizer=l2(0.01))(localizer)\n",
    "localizer = Dense(1024,activation=\"relu\",kernel_regularizer=l2(0.01),activity_regularizer=l2(0.01))(localizer)\n",
    "output = Dense(4)(localizer)\n",
    "\n",
    "model = Model(inputs=inputs,outputs=output)\n",
    "model.summary()"
   ]
  },
  {
   "cell_type": "code",
   "execution_count": 4,
   "metadata": {
    "collapsed": true
   },
   "outputs": [],
   "source": [
    "def metric_iou(y_true,y_pred):\n",
    "    return tf.metrics.mean_iou(y_true,y_pred,4)"
   ]
  },
  {
   "cell_type": "code",
   "execution_count": 5,
   "metadata": {},
   "outputs": [],
   "source": [
    "model.compile(optimizer='Adam',loss='mean_absolute_error')\n",
    "folder=\"\\\\output\\\\weights.best.hdf5\"\n",
    "checkpoint = ModelCheckpoint(folder,monitor='loss',verbose=1,save_best_only=True,mode='min')\n",
    "early_stopping = EarlyStopping(monitor='loss')\n",
    "callbacks=[checkpoint,early_stopping]"
   ]
  },
  {
   "cell_type": "markdown",
   "metadata": {},
   "source": [
    "# Preparing the Input Data"
   ]
  },
  {
   "cell_type": "code",
   "execution_count": 12,
   "metadata": {
    "collapsed": true
   },
   "outputs": [],
   "source": [
    "with open(\"training_images_arr.pkl\",\"rb\") as file:\n",
    "    images_array = pickle.load(file)\n",
    "images_array = np.array(images_array)"
   ]
  },
  {
   "cell_type": "code",
   "execution_count": 13,
   "metadata": {
    "collapsed": true
   },
   "outputs": [],
   "source": [
    "images_array = images_array[:4000]"
   ]
  },
  {
   "cell_type": "code",
   "execution_count": 14,
   "metadata": {
    "collapsed": true
   },
   "outputs": [],
   "source": [
    "normalized_arrays = images_array/255"
   ]
  },
  {
   "cell_type": "code",
   "execution_count": 15,
   "metadata": {
    "collapsed": true
   },
   "outputs": [],
   "source": [
    "normalized_arrays = normalized_arrays.astype(\"float32\")"
   ]
  },
  {
   "cell_type": "code",
   "execution_count": 22,
   "metadata": {
    "collapsed": true
   },
   "outputs": [],
   "source": [
    "output_label = train_data_file[:4000].iloc[:,1:]\n",
    "output_label = output_label.values"
   ]
  },
  {
   "cell_type": "markdown",
   "metadata": {},
   "source": [
    "# Train the model"
   ]
  },
  {
   "cell_type": "code",
   "execution_count": null,
   "metadata": {},
   "outputs": [
    {
     "name": "stdout",
     "output_type": "stream",
     "text": [
      "Epoch 1/10\n"
     ]
    }
   ],
   "source": [
    "model.fit(normalized_arrays,output_label,epochs=10,batch_size=32,callbacks=callbacks,verbose=0)"
   ]
  },
  {
   "cell_type": "code",
   "execution_count": null,
   "metadata": {
    "collapsed": true
   },
   "outputs": [],
   "source": []
  }
 ],
 "metadata": {
  "kernelspec": {
   "display_name": "Python 3",
   "language": "python",
   "name": "python3"
  },
  "language_info": {
   "codemirror_mode": {
    "name": "ipython",
    "version": 3
   },
   "file_extension": ".py",
   "mimetype": "text/x-python",
   "name": "python",
   "nbconvert_exporter": "python",
   "pygments_lexer": "ipython3",
   "version": "3.6.1"
  }
 },
 "nbformat": 4,
 "nbformat_minor": 2
}
