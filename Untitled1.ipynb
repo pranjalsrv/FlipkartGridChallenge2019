{
 "cells": [
  {
   "cell_type": "code",
   "execution_count": 1,
   "metadata": {},
   "outputs": [],
   "source": [
    "%matplotlib inline\n",
    "import cv2\n",
    "import os\n",
    "import numpy as np\n",
    "import pandas as pd\n",
    "import matplotlib.pyplot as plt\n",
    "from PIL import Image\n",
    "from foreground_extract_modular import fore_segm"
   ]
  },
  {
   "cell_type": "code",
   "execution_count": 2,
   "metadata": {},
   "outputs": [],
   "source": [
    "image_files = list('images\\\\'+i for i in os.listdir('images'))"
   ]
  },
  {
   "cell_type": "code",
   "execution_count": 3,
   "metadata": {},
   "outputs": [],
   "source": [
    "boxes = pd.read_csv('training.csv')"
   ]
  },
  {
   "cell_type": "code",
   "execution_count": 4,
   "metadata": {},
   "outputs": [
    {
     "data": {
      "text/html": [
       "<div>\n",
       "<style scoped>\n",
       "    .dataframe tbody tr th:only-of-type {\n",
       "        vertical-align: middle;\n",
       "    }\n",
       "\n",
       "    .dataframe tbody tr th {\n",
       "        vertical-align: top;\n",
       "    }\n",
       "\n",
       "    .dataframe thead th {\n",
       "        text-align: right;\n",
       "    }\n",
       "</style>\n",
       "<table border=\"1\" class=\"dataframe\">\n",
       "  <thead>\n",
       "    <tr style=\"text-align: right;\">\n",
       "      <th></th>\n",
       "      <th>image_name</th>\n",
       "      <th>x1</th>\n",
       "      <th>x2</th>\n",
       "      <th>y1</th>\n",
       "      <th>y2</th>\n",
       "    </tr>\n",
       "  </thead>\n",
       "  <tbody>\n",
       "    <tr>\n",
       "      <th>0</th>\n",
       "      <td>JPEG_20160706_121146_1000145715002.png</td>\n",
       "      <td>115</td>\n",
       "      <td>495</td>\n",
       "      <td>143</td>\n",
       "      <td>325</td>\n",
       "    </tr>\n",
       "    <tr>\n",
       "      <th>1</th>\n",
       "      <td>JPEG_20161119_174038_1000690577600.png</td>\n",
       "      <td>23</td>\n",
       "      <td>457</td>\n",
       "      <td>61</td>\n",
       "      <td>409</td>\n",
       "    </tr>\n",
       "    <tr>\n",
       "      <th>2</th>\n",
       "      <td>147444927651111470309333776-Roadster-Men-Casua...</td>\n",
       "      <td>37</td>\n",
       "      <td>601</td>\n",
       "      <td>13</td>\n",
       "      <td>470</td>\n",
       "    </tr>\n",
       "    <tr>\n",
       "      <th>3</th>\n",
       "      <td>147772332675720161028_161611.png</td>\n",
       "      <td>27</td>\n",
       "      <td>602</td>\n",
       "      <td>162</td>\n",
       "      <td>385</td>\n",
       "    </tr>\n",
       "    <tr>\n",
       "      <th>4</th>\n",
       "      <td>1473315333651DeeplearnS11638.png</td>\n",
       "      <td>60</td>\n",
       "      <td>586</td>\n",
       "      <td>174</td>\n",
       "      <td>325</td>\n",
       "    </tr>\n",
       "  </tbody>\n",
       "</table>\n",
       "</div>"
      ],
      "text/plain": [
       "                                          image_name   x1   x2   y1   y2\n",
       "0             JPEG_20160706_121146_1000145715002.png  115  495  143  325\n",
       "1             JPEG_20161119_174038_1000690577600.png   23  457   61  409\n",
       "2  147444927651111470309333776-Roadster-Men-Casua...   37  601   13  470\n",
       "3                   147772332675720161028_161611.png   27  602  162  385\n",
       "4                   1473315333651DeeplearnS11638.png   60  586  174  325"
      ]
     },
     "execution_count": 4,
     "metadata": {},
     "output_type": "execute_result"
    }
   ],
   "source": [
    "boxes.head()"
   ]
  },
  {
   "cell_type": "code",
   "execution_count": 5,
   "metadata": {},
   "outputs": [],
   "source": [
    "imgnames = []\n",
    "\n",
    "for i in boxes.values[20:40]:\n",
    "    img_name = i[0]\n",
    "    imgnames.append(img_name)"
   ]
  },
  {
   "cell_type": "code",
   "execution_count": 6,
   "metadata": {},
   "outputs": [
    {
     "data": {
      "text/plain": [
       "['1474638701993DSC06811.png',\n",
       " 'JPEG_20160628_132442_1000306311172.png',\n",
       " '147742527128620161025_151026.png',\n",
       " '1480944963239_R2A1990.png',\n",
       " 'JPEG_20160804_161517_100037187045.png',\n",
       " 'JPEG_20160709_131920_1000403949668.png',\n",
       " '1474711748206DSC07405.png',\n",
       " 'JPEG_20161124_133940_1000370433134.png',\n",
       " 'JPEG_20161123_185817_1000936746234.png',\n",
       " 'JPEG_20160723_192023_100022810186.png',\n",
       " 'JPEG_20161123_161917_1000691245413.png',\n",
       " '147772062874720161028_154604.png',\n",
       " '1474634407232DSC05920.png',\n",
       " 'JPEG_20160810_135200_1000252350484.png',\n",
       " 'JPEG_20161130_151625_1000513274539.png',\n",
       " '1473661629179DeeplearnS11509.png',\n",
       " 'JPEG_20161117_175829_1000670753549.png',\n",
       " 'JPEG_20161123_184340_1000982358317.png',\n",
       " '147443993217111472450523339-Roadster-Men-Grey-Sneakers-4751472450523145-5.png',\n",
       " 'JPEG_20161025_131729_1000643972377.png']"
      ]
     },
     "execution_count": 6,
     "metadata": {},
     "output_type": "execute_result"
    }
   ],
   "source": [
    "imgnames"
   ]
  },
  {
   "cell_type": "code",
   "execution_count": 7,
   "metadata": {},
   "outputs": [],
   "source": [
    "box_given_calc = []\n",
    "for i in imgnames:\n",
    "    box_given,box_calc = fore_segm(i)\n",
    "    box_given_calc.append([box_given,box_calc])"
   ]
  },
  {
   "cell_type": "code",
   "execution_count": 8,
   "metadata": {},
   "outputs": [
    {
     "data": {
      "text/plain": [
       "[[[161, 43, 573, 382], [136, 26, 594, 437]],\n",
       " [[114, 125, 542, 372], [87, 114, 556, 445]],\n",
       " [[42, 119, 479, 364], [27, 29, 497, 384]],\n",
       " [[226, 254, 421, 347], [26, 142, 615, 422]],\n",
       " [[28, 48, 602, 423], [26, 26, 615, 445]],\n",
       " [[24, 19, 477, 472], [26, 26, 500, 445]],\n",
       " [[65, 107, 609, 334], [56, 94, 615, 355]],\n",
       " [[209, 27, 389, 438], [190, 26, 411, 396]],\n",
       " [[175, 164, 486, 299], [40, 72, 507, 445]],\n",
       " [[0, 0, 640, 440], [71, 33, 615, 445]],\n",
       " [[266, 73, 357, 392], [146, 26, 452, 415]],\n",
       " [[86, 92, 566, 338], [34, 26, 587, 437]],\n",
       " [[30, 53, 611, 324], [26, 32, 615, 361]],\n",
       " [[199, 146, 487, 420], [178, 125, 509, 443]],\n",
       " [[34, 70, 601, 382], [26, 46, 615, 401]],\n",
       " [[60, 152, 583, 332], [40, 133, 603, 413]],\n",
       " [[234, 145, 362, 349], [77, 38, 561, 416]],\n",
       " [[112, 169, 483, 337], [92, 26, 604, 361]],\n",
       " [[30, 59, 640, 436], [39, 39, 615, 441]],\n",
       " [[137, 62, 488, 433], [60, 43, 571, 445]]]"
      ]
     },
     "execution_count": 8,
     "metadata": {},
     "output_type": "execute_result"
    }
   ],
   "source": [
    "box_given_calc"
   ]
  },
  {
   "cell_type": "code",
   "execution_count": 9,
   "metadata": {},
   "outputs": [],
   "source": [
    "def img_to_numpy(imname):\n",
    "    img = cv2.imread('images\\\\'+imname)\n",
    "    npimg = np.array(img)\n",
    "    return npimg"
   ]
  },
  {
   "cell_type": "code",
   "execution_count": 10,
   "metadata": {},
   "outputs": [],
   "source": [
    "npimgs = []\n",
    "for i in imgnames:\n",
    "    npimg = img_to_numpy(i)\n",
    "    npimgs.append(npimg)"
   ]
  },
  {
   "cell_type": "code",
   "execution_count": 11,
   "metadata": {},
   "outputs": [
    {
     "data": {
      "text/plain": [
       "(20, 480, 640, 3)"
      ]
     },
     "execution_count": 11,
     "metadata": {},
     "output_type": "execute_result"
    }
   ],
   "source": [
    "npimgs = np.array(npimgs)\n",
    "npimgs.shape     ## All images"
   ]
  },
  {
   "cell_type": "code",
   "execution_count": 12,
   "metadata": {},
   "outputs": [],
   "source": [
    "inputs = []\n",
    "\n",
    "for i in range(len(box_given_calc)):\n",
    "    inputs.append([npimgs[i], box_given_calc[i][1]])\n",
    "\n",
    "npinputs = np.array(inputs)"
   ]
  },
  {
   "cell_type": "code",
   "execution_count": 13,
   "metadata": {},
   "outputs": [
    {
     "data": {
      "text/plain": [
       "(20, 2)"
      ]
     },
     "execution_count": 13,
     "metadata": {},
     "output_type": "execute_result"
    }
   ],
   "source": [
    "npinputs.shape   ## Images, Calculated boxes"
   ]
  },
  {
   "cell_type": "code",
   "execution_count": 14,
   "metadata": {},
   "outputs": [
    {
     "data": {
      "text/plain": [
       "(20, 4)"
      ]
     },
     "execution_count": 14,
     "metadata": {},
     "output_type": "execute_result"
    }
   ],
   "source": [
    "calcboxes = []\n",
    "for i in npinputs:\n",
    "    calcboxes.append(i[1])\n",
    "\n",
    "npcalcboxes = np.array(calcboxes)\n",
    "npcalcboxes.shape"
   ]
  },
  {
   "cell_type": "code",
   "execution_count": 15,
   "metadata": {},
   "outputs": [
    {
     "data": {
      "text/plain": [
       "(20, 4)"
      ]
     },
     "execution_count": 15,
     "metadata": {},
     "output_type": "execute_result"
    }
   ],
   "source": [
    "npoutputs = np.array([i[0] for i in box_given_calc])\n",
    "npoutputs.shape  ## Given Boxes"
   ]
  },
  {
   "cell_type": "code",
   "execution_count": 16,
   "metadata": {
    "scrolled": true
   },
   "outputs": [],
   "source": [
    "import tensorflow as tf\n",
    "from tensorflow import keras"
   ]
  },
  {
   "cell_type": "code",
   "execution_count": 17,
   "metadata": {},
   "outputs": [],
   "source": [
    "box_model = tf.keras.Sequential()\n",
    "\n",
    "box_model.add(tf.keras.layers.Dense(16, input_dim = 4))\n",
    "box_model.add(tf.keras.layers.Activation('sigmoid'))\n",
    "\n",
    "#box_model.add(tf.keras.layers.Dense(8))\n",
    "#box_model.add(tf.keras.layers.Activation('sigmoid'))\n",
    "\n",
    "box_model.add(tf.keras.layers.Dense(4, activation = 'linear'))"
   ]
  },
  {
   "cell_type": "code",
   "execution_count": 18,
   "metadata": {},
   "outputs": [],
   "source": [
    "img_model = tf.keras.Sequential()\n",
    "\n",
    "img_model.add(keras.layers.Conv2D(16, (3, 3),input_shape = (480, 640, 3), padding = \"same\", activation = \"relu\"))\n",
    "\n",
    "img_model.add(keras.layers.Conv2D(32, (3, 3), padding = \"same\", activation = \"relu\"))\n",
    "img_model.add(keras.layers.MaxPooling2D(pool_size = (2, 2)))\n",
    "\n",
    "#img_model.add(keras.layers.Conv2D(64, (3, 3), padding = \"same\", activation = \"relu\"))\n",
    "#img_model.add(keras.layers.MaxPooling2D(pool_size = (2, 2)))\n",
    "\n",
    "img_model.add(keras.layers.Flatten())\n",
    "img_model.add(keras.layers.Dense(256, activation = \"relu\"))\n",
    "img_model.add(keras.layers.Dense(4, activation = \"softmax\"))"
   ]
  },
  {
   "cell_type": "code",
   "execution_count": 19,
   "metadata": {},
   "outputs": [],
   "source": [
    "combinedInput = keras.layers.concatenate([box_model.output, img_model.output])"
   ]
  },
  {
   "cell_type": "code",
   "execution_count": 20,
   "metadata": {},
   "outputs": [],
   "source": [
    "comb_model = keras.layers.Dense(4, activation=\"relu\")(combinedInput)"
   ]
  },
  {
   "cell_type": "code",
   "execution_count": 21,
   "metadata": {},
   "outputs": [],
   "source": [
    "final_model = tf.keras.Model(inputs=[box_model.input, img_model.input], outputs=comb_model)"
   ]
  },
  {
   "cell_type": "code",
   "execution_count": 22,
   "metadata": {},
   "outputs": [],
   "source": [
    "opt = keras.optimizers.Adam(lr=1e-3, decay=1e-3 / 200)\n",
    "final_model.compile(loss=\"mean_absolute_percentage_error\", optimizer=opt)"
   ]
  },
  {
   "cell_type": "code",
   "execution_count": null,
   "metadata": {
    "scrolled": true
   },
   "outputs": [
    {
     "name": "stdout",
     "output_type": "stream",
     "text": [
      "Epoch 1/5\n"
     ]
    }
   ],
   "source": [
    "final_model.fit([npcalcboxes,npimgs], npoutputs, epochs = 5, batch_size =2)\n",
    "final_model.save('final_model.h5')"
   ]
  }
 ],
 "metadata": {
  "kernelspec": {
   "display_name": "Python 3",
   "language": "python",
   "name": "python3"
  },
  "language_info": {
   "codemirror_mode": {
    "name": "ipython",
    "version": 3
   },
   "file_extension": ".py",
   "mimetype": "text/x-python",
   "name": "python",
   "nbconvert_exporter": "python",
   "pygments_lexer": "ipython3",
   "version": "3.6.6"
  }
 },
 "nbformat": 4,
 "nbformat_minor": 2
}
