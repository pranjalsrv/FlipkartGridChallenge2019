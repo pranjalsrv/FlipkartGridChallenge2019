{
 "cells": [
  {
   "cell_type": "code",
   "execution_count": 2,
   "metadata": {},
   "outputs": [],
   "source": [
    "%matplotlib inline\n",
    "import cv2\n",
    "import os\n",
    "import numpy as np\n",
    "import pandas as pd\n",
    "import matplotlib.pyplot as plt\n",
    "from PIL import Image"
   ]
  },
  {
   "cell_type": "code",
   "execution_count": 3,
   "metadata": {},
   "outputs": [],
   "source": [
    "image_files = list('images\\\\'+i for i in os.listdir('images'))"
   ]
  },
  {
   "cell_type": "code",
   "execution_count": 4,
   "metadata": {},
   "outputs": [],
   "source": [
    "boxes = pd.read_csv('training.csv')"
   ]
  },
  {
   "cell_type": "code",
   "execution_count": 39,
   "metadata": {},
   "outputs": [],
   "source": [
    "def fore_segm(iname):\n",
    "    #iname = '1474711748206DSC07405.png'\n",
    "    img = cv2.imread('images\\\\'+iname)\n",
    "    cimg = img.copy()\n",
    "    mask = np.zeros(img.shape[:2],np.uint8)\n",
    "\n",
    "    bgdModel = np.zeros((1,65),np.float64)\n",
    "    fgdModel = np.zeros((1,65),np.float64)\n",
    "    \n",
    "    rect = (50,50,540,370)\n",
    "    cv2.grabCut(img,mask,rect,bgdModel,fgdModel,5,cv2.GC_INIT_WITH_RECT)\n",
    "\n",
    "    mask2 = np.where((mask==2)|(mask==0),0,1).astype('uint8')\n",
    "    fimg = img*mask2[:,:,np.newaxis]\n",
    "    \n",
    "    _,x1,x2,y1,y2 = boxes[boxes['image_name']==iname].values[0]\n",
    "    \n",
    "    fimg[np.where((fimg!=[0,0,0]).all(axis=2))] = [0,0,255]\n",
    "    \n",
    "    kernel1 = np.ones((40,40),np.uint8)\n",
    "    closing = cv2.morphologyEx(fimg, cv2.MORPH_CLOSE, kernel1)\n",
    "    \n",
    "    kernel2 = np.ones((11,11),np.uint8)\n",
    "    dilation = cv2.dilate(closing,kernel2,iterations = 5)\n",
    "    \n",
    "    xmax, ymax, xmin, ymin = 0,0,639,479\n",
    "\n",
    "    for i in range(0,479):\n",
    "        for j in range(0,639):\n",
    "            if np.array_equal(dilation[i][j],np.array([0,0,255])):\n",
    "            #print(i,j)\n",
    "                if j<xmin:\n",
    "                    xmin = j\n",
    "                if j>xmax:\n",
    "                    xmax = j\n",
    "                if i<ymin:\n",
    "                    ymin = i\n",
    "                if i>ymax:\n",
    "                    ymax = i \n",
    "    \n",
    "    return [x1,y1,x2,y2],[xmin,ymin,xmax,ymax]\n"
   ]
  },
  {
   "cell_type": "code",
   "execution_count": 40,
   "metadata": {},
   "outputs": [],
   "source": [
    "def ioufunc(boxA, boxB):\n",
    "\t# determine the (x, y)-coordinates of the intersection rectangle\n",
    "\txA = max(boxA[0], boxB[0])\n",
    "\tyA = max(boxA[1], boxB[1])\n",
    "\txB = min(boxA[2], boxB[2])\n",
    "\tyB = min(boxA[3], boxB[3])\n",
    "\n",
    "\t# compute the area of intersection rectangle\n",
    "\tinterArea = max(0, xB - xA + 1) * max(0, yB - yA + 1)\n",
    "\n",
    "\t# compute the areba of both the prediction and ground-truth\n",
    "\t# rectangles\n",
    "\tboxAArea = (boxA[2] - boxA[0] + 1) * (boxA[3] - boxA[1] + 1)\n",
    "\tboxBArea = (boxB[2] - boxB[0] + 1) * (boxB[3] - boxB[1] + 1)\n",
    "\n",
    "\t# compute the intersection over union by taking the intersection\n",
    "\t# area and dividing it by the sum of prediction + ground-truth\n",
    "\t# areas - the interesection area\n",
    "\tiou = interArea / float(boxAArea + boxBArea - interArea)\n",
    "\n",
    "\t# return the intersection over union value\n",
    "\treturn iou"
   ]
  },
  {
   "cell_type": "code",
   "execution_count": 41,
   "metadata": {},
   "outputs": [
    {
     "name": "stdout",
     "output_type": "stream",
     "text": [
      "1 .... JPEG_20160706_121146_1000145715002.png\n",
      "1 .... JPEG_20161119_174038_1000690577600.png\n",
      "1 .... 147444927651111470309333776-Roadster-Men-Casual-Shoes-3041470309333487-1.png\n",
      "1 .... 147772332675720161028_161611.png\n",
      "1 .... 1473315333651DeeplearnS11638.png\n",
      "1 .... JPEG_20161129_143914_1000304878557.png\n",
      "1 .... JPEG_20161028_100621_1000815239330.png\n",
      "1 .... 1475060075141DSC02381.png\n",
      "1 .... 1473317734429DeeplearnS142.png\n",
      "1 .... JPEG_20160607_153530_1000669241198.png\n",
      "1 .... JPEG_20160627_154106_1000265795536.png\n",
      "1 .... JPEG_20161129_134328_1000772650224.png\n",
      "1 .... JPEG_20161201_123114_1000360160859.png\n",
      "1 .... JPEG_20160621_155815_1000614998565.png\n",
      "1 .... 147771721999620161028_150629.png\n",
      "1 .... 1480066865683IMG_0157.png\n",
      "1 .... 147772025319520161028_151915.png\n",
      "1 .... 147742629330620161025_155320.png\n",
      "1 .... JPEG_20160527_155124_1000980290136.png\n",
      "1 .... JPEG_20161028_121752_10003102030.png\n"
     ]
    },
    {
     "data": {
      "text/plain": [
       "0.6403809263408273"
      ]
     },
     "execution_count": 41,
     "metadata": {},
     "output_type": "execute_result"
    }
   ],
   "source": [
    "from_img = 0\n",
    "no_images = 20\n",
    "\n",
    "index = 1\n",
    "total_iou = 0\n",
    "for i in boxes['image_name'][from_img:from_img+no_images]:\n",
    "    print(index,'....',i)\n",
    "    givenbox, ourbox = fore_segm(i)\n",
    "    total_iou += ioufunc(givenbox, ourbox)\n",
    "    index += 1\n",
    "\n",
    "avg_iou = total_iou/no_images\n",
    "avg_iou"
   ]
  },
  {
   "cell_type": "code",
   "execution_count": null,
   "metadata": {},
   "outputs": [],
   "source": []
  }
 ],
 "metadata": {
  "kernelspec": {
   "display_name": "Python 3",
   "language": "python",
   "name": "python3"
  },
  "language_info": {
   "codemirror_mode": {
    "name": "ipython",
    "version": 3
   },
   "file_extension": ".py",
   "mimetype": "text/x-python",
   "name": "python",
   "nbconvert_exporter": "python",
   "pygments_lexer": "ipython3",
   "version": "3.6.6"
  }
 },
 "nbformat": 4,
 "nbformat_minor": 2
}
